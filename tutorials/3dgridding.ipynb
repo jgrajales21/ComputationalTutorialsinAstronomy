{
 "cells": [
  {
   "cell_type": "markdown",
   "id": "5630bcc7",
   "metadata": {},
   "source": [
    "#### Wesleyan University ASTR 221\n",
    "\n",
    "## Tutorial 2: Three-dimensional gridding\n",
    "\n",
    "Last time, we took advantage of the spherical symmetry of the NFW profile to represent that 3D distribution of mass on a one-dimensional grid.  For more complicated situations (such as in the homework), however, we'll need to more explicitly represent that space on a three-dimensional grid.  Today we'll practice by depositing the Milky Way's NFW profile onto a 3D grid in a few different ways."
   ]
  },
  {
   "cell_type": "code",
   "execution_count": 2,
   "id": "b8432859",
   "metadata": {},
   "outputs": [],
   "source": [
    "%matplotlib inline"
   ]
  },
  {
   "cell_type": "code",
   "execution_count": 3,
   "id": "6e2b6be5",
   "metadata": {},
   "outputs": [],
   "source": [
    "import numpy as np\n",
    "import matplotlib.pyplot as plt\n",
    "plt.rcParams['figure.dpi'] = 120  \n",
    "from math import pi"
   ]
  },
  {
   "cell_type": "markdown",
   "id": "bb7c0585",
   "metadata": {},
   "source": [
    "Recall that the NFW profile has the following shape,\n",
    "\n",
    "$$\\rho(r) = \\frac{\\rho_s}{(r/r_s)(1+r/r_s)^2}$$\n",
    "\n",
    "with $\\rho_s = 7 \\times 10^{-3}~{\\rm M}_\\odot/{\\rm pc}^3$ and $r_s = 20~{\\rm kpc}$ for the Milky Way's halo.  Thus, our 3D space should be centered on the point where $r = 0$.\n",
    "\n",
    "There are a number of 3D coordinate systems we could, in theory, use to define our grid.  The simplest of these is Cartesian ($x,y,z$) coordinates, although it may be temping to use spherical coordinates ($r,\\theta,\\phi$) given the symmetry of the problem - we'll return to this later.\n",
    "\n",
    "Each point in space will be represented by an x-coordinate, a y-coordinate, and a z-coordinate.  Let's say that we want the grid to go out to $r=100$ kpc, and have a resolution of 0.5 kpc.  Thus, each coordinate axis will have 400 grid points (200 on each side of 0) as follows:"
   ]
  },
  {
   "cell_type": "code",
   "execution_count": 4,
   "id": "bff78386",
   "metadata": {},
   "outputs": [],
   "source": [
    "# Construct array of equally-spaced grid points\n",
    "xmin = -100.\n",
    "xmax = 100.\n",
    "dx = 0.5\n",
    "ncells = int((xmax - xmin)/dx)\n",
    "dx = (xmax - xmin)/ncells   # For consistency, just in case it didn't go in evenly\n",
    "\n",
    "xmids = np.linspace(xmin, xmax, ncells+1)[1:] - dx/2."
   ]
  },
  {
   "cell_type": "markdown",
   "id": "cbb5cdf7",
   "metadata": {},
   "source": [
    "Now we have a 1D axis.  How do we convert this to 3D coordinates?  A very useful method in numpy is [meshgrid()](https://numpy.org/doc/stable/reference/generated/numpy.meshgrid.html), which takes N sets of 1D axis vectors and constructs the N-dimensional coordinate arrays corresponding to the combination of those vectors.  So if we had a vector ```x1d``` for the x-axis, ```y1d``` for the y-axis, and ```z1d``` for the z-axis, we could convert these into 3D coordinate arrays as\n",
    "```x3d, y3d, z3d = np.meshgrid(x1d, y1d, z1d)```.  (It may swap around the order of the axes depending on whether you are in 'xy' or 'ij' mode, see documentation.  In our case it doesn't matter because all three coordinates have the same grid points.)\n",
    "\n",
    "In our case, we can use this function as"
   ]
  },
  {
   "cell_type": "code",
   "execution_count": 5,
   "id": "aaa9174a",
   "metadata": {},
   "outputs": [],
   "source": [
    "# Construct 3D coordinate arrays from 1D grids\n",
    "x, y, z = np.meshgrid(xmids, xmids, xmids)"
   ]
  },
  {
   "cell_type": "markdown",
   "id": "7790aed2",
   "metadata": {},
   "source": [
    "Check out the top corner of each of these arrays, and see how each one varies in a different direction:"
   ]
  },
  {
   "cell_type": "code",
   "execution_count": 6,
   "id": "d03b7176",
   "metadata": {},
   "outputs": [
    {
     "data": {
      "text/plain": [
       "array([[[-99.75, -99.75, -99.75],\n",
       "        [-99.25, -99.25, -99.25],\n",
       "        [-98.75, -98.75, -98.75]],\n",
       "\n",
       "       [[-99.75, -99.75, -99.75],\n",
       "        [-99.25, -99.25, -99.25],\n",
       "        [-98.75, -98.75, -98.75]],\n",
       "\n",
       "       [[-99.75, -99.75, -99.75],\n",
       "        [-99.25, -99.25, -99.25],\n",
       "        [-98.75, -98.75, -98.75]]])"
      ]
     },
     "execution_count": 6,
     "metadata": {},
     "output_type": "execute_result"
    }
   ],
   "source": [
    "x[:3,:3,:3]"
   ]
  },
  {
   "cell_type": "code",
   "execution_count": 7,
   "id": "e918425b",
   "metadata": {},
   "outputs": [
    {
     "data": {
      "text/plain": [
       "array([[[-99.75, -99.75, -99.75],\n",
       "        [-99.75, -99.75, -99.75],\n",
       "        [-99.75, -99.75, -99.75]],\n",
       "\n",
       "       [[-99.25, -99.25, -99.25],\n",
       "        [-99.25, -99.25, -99.25],\n",
       "        [-99.25, -99.25, -99.25]],\n",
       "\n",
       "       [[-98.75, -98.75, -98.75],\n",
       "        [-98.75, -98.75, -98.75],\n",
       "        [-98.75, -98.75, -98.75]]])"
      ]
     },
     "execution_count": 7,
     "metadata": {},
     "output_type": "execute_result"
    }
   ],
   "source": [
    "y[:3,:3,:3]"
   ]
  },
  {
   "cell_type": "code",
   "execution_count": 8,
   "id": "ffc85145",
   "metadata": {},
   "outputs": [
    {
     "data": {
      "text/plain": [
       "array([[[-99.75, -99.25, -98.75],\n",
       "        [-99.75, -99.25, -98.75],\n",
       "        [-99.75, -99.25, -98.75]],\n",
       "\n",
       "       [[-99.75, -99.25, -98.75],\n",
       "        [-99.75, -99.25, -98.75],\n",
       "        [-99.75, -99.25, -98.75]],\n",
       "\n",
       "       [[-99.75, -99.25, -98.75],\n",
       "        [-99.75, -99.25, -98.75],\n",
       "        [-99.75, -99.25, -98.75]]])"
      ]
     },
     "execution_count": 8,
     "metadata": {},
     "output_type": "execute_result"
    }
   ],
   "source": [
    "z[:3,:3,:3]"
   ]
  },
  {
   "cell_type": "markdown",
   "id": "16de62e0",
   "metadata": {},
   "source": [
    "Notice how many grid points we have in total!  This is **WAY** more expensive than the way we did it in 1D.  In general, 2D calculations are much more expensive than 1D calculations, and 3D calculations are much more expensive than 2D calculations."
   ]
  },
  {
   "cell_type": "code",
   "execution_count": 9,
   "id": "be1fdd10",
   "metadata": {},
   "outputs": [
    {
     "data": {
      "text/plain": [
       "64000000"
      ]
     },
     "execution_count": 9,
     "metadata": {},
     "output_type": "execute_result"
    }
   ],
   "source": [
    "x.size"
   ]
  },
  {
   "cell_type": "markdown",
   "id": "bfad7358",
   "metadata": {},
   "source": [
    "With our grid now fully defined, we can calculate the mass at each point.  \n",
    "\n",
    "But wait!  The NFW profile is a function of r, not x, y, and z!  That means we will first have to calculate r, then rho:"
   ]
  },
  {
   "cell_type": "code",
   "execution_count": 10,
   "id": "17dc2cfa",
   "metadata": {},
   "outputs": [
    {
     "data": {
      "text/plain": [
       "(400, 400, 400)"
      ]
     },
     "execution_count": 10,
     "metadata": {},
     "output_type": "execute_result"
    }
   ],
   "source": [
    "# Calculate radius at each grid point\n",
    "r = np.sqrt(x**2 + y**2 + z**2)\n",
    "\n",
    "# Define constants\n",
    "rho0 = 7.e-3 * (1e3)**3 \n",
    "rs = 20.\n",
    "\n",
    "# NFW profile\n",
    "rho = rho0/(r/rs)/(1+r/rs)**2\n",
    "\n",
    "rho.shape"
   ]
  },
  {
   "cell_type": "markdown",
   "id": "8e513498",
   "metadata": {},
   "source": [
    "Hooray, we now have a model of the halo!  If we put a \"sightline\" down the center of one face of the cube (keep two coordinates fixed and see how the density varies along the third, which is a radial track if the two fixed coordinates are 0), we should recover the same profile we saw last time:"
   ]
  },
  {
   "cell_type": "code",
   "execution_count": 14,
   "id": "ef366e77",
   "metadata": {},
   "outputs": [
    {
     "data": {
      "image/png": "[encoded data removed]",
      "text/plain": [
       "<Figure size 720x480 with 1 Axes>"
      ]
     },
     "metadata": {
      "needs_background": "light"
     },
     "output_type": "display_data"
    }
   ],
   "source": [
    "# Define fixed array indices for x and y\n",
    "ix = int(ncells/2) # To get as close to the center as possible\n",
    "iy = int(ncells/2)\n",
    "\n",
    "fig, ax = plt.subplots()\n",
    "plt.plot(xmids, rho[ix,iy,:], '-o')\n",
    "ax.set_xlabel('z (kpc)')\n",
    "ax.set_ylabel(r'Density (M$_\\odot$/kpc$^3$)')\n",
    "#ax.set_xscale('log')\n",
    "ax.set_yscale('log')\n"
   ]
  },
  {
   "cell_type": "markdown",
   "id": "8d371fcf",
   "metadata": {},
   "source": [
    "Because we have the full 3D information, we can even drop multiple sightlines at different x-values and see how things change:"
   ]
  },
  {
   "cell_type": "code",
   "execution_count": null,
   "id": "033dba5d",
   "metadata": {},
   "outputs": [],
   "source": [
    "# Define fixed array indices for x and y\n",
    "ixs = [0,49,99,149,199] \n",
    "iy = int(ncells/2)\n",
    "\n",
    "fig, ax = plt.subplots()\n",
    "for ix in ixs:\n",
    "    plt.plot(xmids, rho[ix,iy,:], '-')\n",
    "ax.set_xlabel('z (kpc)')\n",
    "ax.set_ylabel(r'Density (M$_\\odot$/kpc$^3$)')\n",
    "#ax.set_xscale('log')\n",
    "ax.set_yscale('log')"
   ]
  },
  {
   "cell_type": "markdown",
   "id": "d1807f80",
   "metadata": {},
   "source": [
    "As before, we can calculate the total mass by multiplying the density of each cell by the volume it represents.  In this case, the volume of each cell is simply $(dx)^3$:"
   ]
  },
  {
   "cell_type": "code",
   "execution_count": 12,
   "id": "0c17eede",
   "metadata": {},
   "outputs": [
    {
     "data": {
      "text/plain": [
       "11.887865386367421"
      ]
     },
     "execution_count": 12,
     "metadata": {},
     "output_type": "execute_result"
    }
   ],
   "source": [
    "np.log10(np.sum(rho*dx**3))"
   ]
  },
  {
   "cell_type": "markdown",
   "id": "96c4cbd2",
   "metadata": {},
   "source": [
    "(This mass is slightly lower than the one we calculated before because our domain does not extend as far.)"
   ]
  },
  {
   "cell_type": "markdown",
   "id": "da73dec1",
   "metadata": {},
   "source": [
    "## Other coordinate systems\n",
    "\n",
    "A Cartesian grid is the simplest choice, but other types of grids may be useful for specific problems.  Disks, for example, are often represented on a cylindrical grid with $(R,\\theta, z)$ coordinates.  How would we do that here, if we so chose?  We would have to construct a different initial 1D grid for each axis,"
   ]
  },
  {
   "cell_type": "code",
   "execution_count": 15,
   "id": "fa9fb77b",
   "metadata": {},
   "outputs": [],
   "source": [
    "n_rcyl = 200\n",
    "rcyl_min = 0.\n",
    "rcyl_max = 100.\n",
    "drcyl = (rcyl_max - rcyl_min)/n_rcyl\n",
    "\n",
    "rcyl_1d = np.linspace(rcyl_min, rcyl_max, n_rcyl+1)[1:] - drcyl/2.\n",
    "\n",
    "n_theta = 80\n",
    "theta_min = 0.\n",
    "theta_max = 2*pi\n",
    "dtheta = (theta_max - theta_min)/n_theta\n",
    "\n",
    "theta_1d = np.linspace(theta_min, theta_max, n_theta+1)[1:] - dtheta/2.\n",
    "\n",
    "n_zcyl = 400\n",
    "zcyl_min = -100.\n",
    "zcyl_max = 100.\n",
    "dzcyl = (zcyl_max - zcyl_min)/n_zcyl\n",
    "\n",
    "zcyl_1d = np.linspace(zcyl_min, zcyl_max, n_zcyl+1)[1:] - dzcyl/2."
   ]
  },
  {
   "cell_type": "markdown",
   "id": "7dfa2236",
   "metadata": {},
   "source": [
    "Then create the 3D coordinate arrays using meshgrid() as before,"
   ]
  },
  {
   "cell_type": "code",
   "execution_count": 16,
   "id": "3a2ab67d",
   "metadata": {},
   "outputs": [],
   "source": [
    "rcyl, theta, zcyl = np.meshgrid(rcyl_1d, theta_1d, zcyl_1d)"
   ]
  },
  {
   "cell_type": "code",
   "execution_count": 17,
   "id": "1dd46d59",
   "metadata": {},
   "outputs": [
    {
     "data": {
      "text/plain": [
       "array([[[0.25, 0.25, 0.25],\n",
       "        [0.75, 0.75, 0.75],\n",
       "        [1.25, 1.25, 1.25]],\n",
       "\n",
       "       [[0.25, 0.25, 0.25],\n",
       "        [0.75, 0.75, 0.75],\n",
       "        [1.25, 1.25, 1.25]],\n",
       "\n",
       "       [[0.25, 0.25, 0.25],\n",
       "        [0.75, 0.75, 0.75],\n",
       "        [1.25, 1.25, 1.25]]])"
      ]
     },
     "execution_count": 17,
     "metadata": {},
     "output_type": "execute_result"
    }
   ],
   "source": [
    "rcyl[:3,:3,:3]"
   ]
  },
  {
   "cell_type": "code",
   "execution_count": 18,
   "id": "204911c5",
   "metadata": {},
   "outputs": [
    {
     "data": {
      "text/plain": [
       "array([[[0.03926991, 0.03926991, 0.03926991],\n",
       "        [0.03926991, 0.03926991, 0.03926991],\n",
       "        [0.03926991, 0.03926991, 0.03926991]],\n",
       "\n",
       "       [[0.11780972, 0.11780972, 0.11780972],\n",
       "        [0.11780972, 0.11780972, 0.11780972],\n",
       "        [0.11780972, 0.11780972, 0.11780972]],\n",
       "\n",
       "       [[0.19634954, 0.19634954, 0.19634954],\n",
       "        [0.19634954, 0.19634954, 0.19634954],\n",
       "        [0.19634954, 0.19634954, 0.19634954]]])"
      ]
     },
     "execution_count": 18,
     "metadata": {},
     "output_type": "execute_result"
    }
   ],
   "source": [
    "theta[:3,:3,:3]"
   ]
  },
  {
   "cell_type": "code",
   "execution_count": 19,
   "id": "748a9e2a",
   "metadata": {},
   "outputs": [
    {
     "data": {
      "text/plain": [
       "array([[[-99.75, -99.25, -98.75],\n",
       "        [-99.75, -99.25, -98.75],\n",
       "        [-99.75, -99.25, -98.75]],\n",
       "\n",
       "       [[-99.75, -99.25, -98.75],\n",
       "        [-99.75, -99.25, -98.75],\n",
       "        [-99.75, -99.25, -98.75]],\n",
       "\n",
       "       [[-99.75, -99.25, -98.75],\n",
       "        [-99.75, -99.25, -98.75],\n",
       "        [-99.75, -99.25, -98.75]]])"
      ]
     },
     "execution_count": 19,
     "metadata": {},
     "output_type": "execute_result"
    }
   ],
   "source": [
    "zcyl[:3,:3,:3]"
   ]
  },
  {
   "cell_type": "markdown",
   "id": "5811649e",
   "metadata": {},
   "source": [
    "To calculate rho at each point in space, we need to first calculate the 3D radius using the cylindrical radius and z,"
   ]
  },
  {
   "cell_type": "code",
   "execution_count": 20,
   "id": "854b26c8",
   "metadata": {},
   "outputs": [],
   "source": [
    "r = np.sqrt(rcyl**2 + zcyl**2)\n",
    "rho = rho0/(r/rs)/(1+r/rs)**2"
   ]
  },
  {
   "cell_type": "markdown",
   "id": "3bfa696c",
   "metadata": {},
   "source": [
    "And to calculate the total mass, we need to first calculate the volume of each cylindrical resolution element,\n",
    "$$V_{\\rm cell} = R~d\\theta~dR~dz$$"
   ]
  },
  {
   "cell_type": "code",
   "execution_count": 21,
   "id": "c832fc4d",
   "metadata": {},
   "outputs": [
    {
     "data": {
      "text/plain": [
       "11.865945023621038"
      ]
     },
     "execution_count": 21,
     "metadata": {},
     "output_type": "execute_result"
    }
   ],
   "source": [
    "cellvol = rcyl*dtheta*drcyl*dzcyl\n",
    "np.log10(np.sum(rho*cellvol))"
   ]
  },
  {
   "cell_type": "markdown",
   "id": "4143e591",
   "metadata": {},
   "source": [
    "So you can see that we end up with a similar total mass, it just took a little bit of extra bookkeeping.  Sometimes it can be numerically advantageous to use this kind of grid, e.g. if you have a rotating disk so that the flow is mostly occurring across one face.  (Some codes will even use a cylindrical grid in a *co-rotating reference frame*, which is cool but way beyond the scope of this class.)\n",
    "\n",
    "I have mentioned that spherical coordinates are a bad idea, even though this problem might look like it lends itself to it.  Look what happens to the volume of the cells in the cylindrical grid as a function of radius:"
   ]
  },
  {
   "cell_type": "code",
   "execution_count": 22,
   "id": "2dc41231",
   "metadata": {},
   "outputs": [
    {
     "data": {
      "text/plain": [
       "array([0.00490874, 0.01472622, 0.02454369, 0.03436117, 0.04417865,\n",
       "       0.05399612, 0.0638136 , 0.07363108, 0.08344855, 0.09326603,\n",
       "       0.10308351, 0.11290099, 0.12271846, 0.13253594, 0.14235342,\n",
       "       0.15217089, 0.16198837, 0.17180585, 0.18162333, 0.1914408 ,\n",
       "       0.20125828, 0.21107576, 0.22089323, 0.23071071, 0.24052819,\n",
       "       0.25034566, 0.26016314, 0.26998062, 0.2797981 , 0.28961557,\n",
       "       0.29943305, 0.30925053, 0.319068  , 0.32888548, 0.33870296,\n",
       "       0.34852044, 0.35833791, 0.36815539, 0.37797287, 0.38779034,\n",
       "       0.39760782, 0.4074253 , 0.41724277, 0.42706025, 0.43687773,\n",
       "       0.44669521, 0.45651268, 0.46633016, 0.47614764, 0.48596511,\n",
       "       0.49578259, 0.50560007, 0.51541754, 0.52523502, 0.5350525 ,\n",
       "       0.54486998, 0.55468745, 0.56450493, 0.57432241, 0.58413988,\n",
       "       0.59395736, 0.60377484, 0.61359232, 0.62340979, 0.63322727,\n",
       "       0.64304475, 0.65286222, 0.6626797 , 0.67249718, 0.68231465,\n",
       "       0.69213213, 0.70194961, 0.71176709, 0.72158456, 0.73140204,\n",
       "       0.74121952, 0.75103699, 0.76085447, 0.77067195, 0.78048942,\n",
       "       0.7903069 , 0.80012438, 0.80994186, 0.81975933, 0.82957681,\n",
       "       0.83939429, 0.84921176, 0.85902924, 0.86884672, 0.8786642 ,\n",
       "       0.88848167, 0.89829915, 0.90811663, 0.9179341 , 0.92775158,\n",
       "       0.93756906, 0.94738653, 0.95720401, 0.96702149, 0.97683897,\n",
       "       0.98665644, 0.99647392, 1.0062914 , 1.01610887, 1.02592635,\n",
       "       1.03574383, 1.04556131, 1.05537878, 1.06519626, 1.07501374,\n",
       "       1.08483121, 1.09464869, 1.10446617, 1.11428364, 1.12410112,\n",
       "       1.1339186 , 1.14373608, 1.15355355, 1.16337103, 1.17318851,\n",
       "       1.18300598, 1.19282346, 1.20264094, 1.21245841, 1.22227589,\n",
       "       1.23209337, 1.24191085, 1.25172832, 1.2615458 , 1.27136328,\n",
       "       1.28118075, 1.29099823, 1.30081571, 1.31063319, 1.32045066,\n",
       "       1.33026814, 1.34008562, 1.34990309, 1.35972057, 1.36953805,\n",
       "       1.37935552, 1.389173  , 1.39899048, 1.40880796, 1.41862543,\n",
       "       1.42844291, 1.43826039, 1.44807786, 1.45789534, 1.46771282,\n",
       "       1.47753029, 1.48734777, 1.49716525, 1.50698273, 1.5168002 ,\n",
       "       1.52661768, 1.53643516, 1.54625263, 1.55607011, 1.56588759,\n",
       "       1.57570507, 1.58552254, 1.59534002, 1.6051575 , 1.61497497,\n",
       "       1.62479245, 1.63460993, 1.6444274 , 1.65424488, 1.66406236,\n",
       "       1.67387984, 1.68369731, 1.69351479, 1.70333227, 1.71314974,\n",
       "       1.72296722, 1.7327847 , 1.74260218, 1.75241965, 1.76223713,\n",
       "       1.77205461, 1.78187208, 1.79168956, 1.80150704, 1.81132451,\n",
       "       1.82114199, 1.83095947, 1.84077695, 1.85059442, 1.8604119 ,\n",
       "       1.87022938, 1.88004685, 1.88986433, 1.89968181, 1.90949928,\n",
       "       1.91931676, 1.92913424, 1.93895172, 1.94876919, 1.95858667])"
      ]
     },
     "execution_count": 22,
     "metadata": {},
     "output_type": "execute_result"
    }
   ],
   "source": [
    "cellvol[0,:,0]"
   ]
  },
  {
   "cell_type": "markdown",
   "id": "dd72bf4e",
   "metadata": {},
   "source": [
    "The volume of the cells changes hugely from the interior to the exterior of the halo.  This isn't necessarily a bug - it can be a feature, if most of your mass is at the center - but in spherical coordinates there is a similar and worse problem.  If you construct a grid which is equally spaced in $r$, $\\theta$, and $\\phi$, you will find that there are lots of tiny, elongated cells near the poles.  This is bad both because you are wasting resolution there, as well as for many other numerical reasons having to do with the toothpick-like shape of the cells.  (That said, people have come up with alternative grids that preserve many of the spherical symmetries without having so many numerical disadvantages.)"
   ]
  },
  {
   "cell_type": "code",
   "execution_count": null,
   "id": "ee7c06e4",
   "metadata": {},
   "outputs": [],
   "source": []
  }
 ],
 "metadata": {
  "kernelspec": {
   "display_name": "Python 3.8.9 64-bit",
   "language": "python",
   "name": "python3"
  },
  "language_info": {
   "codemirror_mode": {
    "name": "ipython",
    "version": 3
   },
   "file_extension": ".py",
   "mimetype": "text/x-python",
   "name": "python",
   "nbconvert_exporter": "python",
   "pygments_lexer": "ipython3",
   "version": "3.8.9"
  },
  "vscode": {
   "interpreter": {
    "hash": "31f2aee4e71d21fbe5cf8b01ff0e069b9275f58929596ceb00d14d90e3e16cd6"
   }
  }
 },
 "nbformat": 4,
 "nbformat_minor": 5
}
