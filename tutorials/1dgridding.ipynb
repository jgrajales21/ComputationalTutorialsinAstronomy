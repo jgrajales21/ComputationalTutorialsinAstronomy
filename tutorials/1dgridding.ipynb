{
 "cells": [
  {
   "cell_type": "markdown",
   "id": "5630bcc7",
   "metadata": {},
   "source": [
    "#### Wesleyan University ASTR 221\n",
    "\n",
    "## Tutorial 1: One-dimensional gridding\n",
    "\n",
    "In general, when modeling something numerically we have to move away from the land of the *continuous* to the land of the *discrete*.  Today we'll talk about strategies for representing continuous functions on discrete grids.  We'll stick to 1D today and talk about 2/3D next time.  In this example, we'll use a numerical representation of an NFW profile to approximate the total mass of the Milky Way's dark matter halo (without having to integrate the function).\n",
    "\n",
    "Import statements at the top, as always:"
   ]
  },
  {
   "cell_type": "code",
   "execution_count": 1,
   "id": "b8432859",
   "metadata": {},
   "outputs": [],
   "source": [
    "%matplotlib inline"
   ]
  },
  {
   "cell_type": "code",
   "execution_count": 2,
   "id": "6e2b6be5",
   "metadata": {},
   "outputs": [],
   "source": [
    "import numpy as np\n",
    "import matplotlib.pyplot as plt\n",
    "plt.rcParams['figure.dpi'] = 120  # Determines resolution (and therefore size) of figures\n",
    "from math import pi"
   ]
  },
  {
   "cell_type": "markdown",
   "id": "bb7c0585",
   "metadata": {},
   "source": [
    "Let's consider the Navarro-Frenk-White (NFW) density profile which describes dark matter halos,\n",
    "\n",
    "$$\\rho(r) = \\frac{\\rho_s}{(r/r_s)(1+r/r_s)^2}$$\n",
    "\n",
    "To put this into concrete numbers, the Milky Way's DM profile has something like $\\rho_s = 7 \\times 10^{-3}~{\\rm M}_\\odot/{\\rm pc}^3$ and $r_s = 20~{\\rm kpc}$.\n",
    "\n",
    "We'll use numpy's linspace function to define a grid of equally-spaced radius values at which to sample the function,"
   ]
  },
  {
   "cell_type": "code",
   "execution_count": 3,
   "id": "bff78386",
   "metadata": {},
   "outputs": [
    {
     "data": {
      "text/plain": [
       "array([  0.,   2.,   4.,   6.,   8.,  10.,  12.,  14.,  16.,  18.,  20.,\n",
       "        22.,  24.,  26.,  28.,  30.,  32.,  34.,  36.,  38.,  40.,  42.,\n",
       "        44.,  46.,  48.,  50.,  52.,  54.,  56.,  58.,  60.,  62.,  64.,\n",
       "        66.,  68.,  70.,  72.,  74.,  76.,  78.,  80.,  82.,  84.,  86.,\n",
       "        88.,  90.,  92.,  94.,  96.,  98., 100., 102., 104., 106., 108.,\n",
       "       110., 112., 114., 116., 118., 120., 122., 124., 126., 128., 130.,\n",
       "       132., 134., 136., 138., 140., 142., 144., 146., 148., 150., 152.,\n",
       "       154., 156., 158., 160., 162., 164., 166., 168., 170., 172., 174.,\n",
       "       176., 178., 180., 182., 184., 186., 188., 190., 192., 194., 196.,\n",
       "       198., 200.])"
      ]
     },
     "execution_count": 3,
     "metadata": {},
     "output_type": "execute_result"
    }
   ],
   "source": [
    "# Construct array of 101 equally-spaced radii from 0 to 200 kpc\n",
    "r = np.linspace(0,200,101)\n",
    "r"
   ]
  },
  {
   "cell_type": "markdown",
   "id": "bfad7358",
   "metadata": {},
   "source": [
    "Then perform some arithmetic operations on the radius array to calculate the density at each radius according to the NFW profile function above,"
   ]
  },
  {
   "cell_type": "code",
   "execution_count": 4,
   "id": "17dc2cfa",
   "metadata": {},
   "outputs": [
    {
     "name": "stderr",
     "output_type": "stream",
     "text": [
      "/var/folders/6_/yxmrw5t52wjdhykxp81bsgjw0000gn/T/ipykernel_86938/4202212340.py:5: RuntimeWarning: divide by zero encountered in true_divide\n",
      "  rho = rho0/(r/rs)/(1+r/rs)**2\n"
     ]
    }
   ],
   "source": [
    "# Define constants\n",
    "rho0 = 7.e-3 * (1e3)**3  # To make it Msun/kpc^3 so the units match\n",
    "rs = 20.\n",
    "\n",
    "rho = rho0/(r/rs)/(1+r/rs)**2"
   ]
  },
  {
   "cell_type": "markdown",
   "id": "8e513498",
   "metadata": {},
   "source": [
    "Whoops!  The function is undefined at zero!  This is an object lesson to always be careful about the *boundaries* of your domain.  It was a bad idea to start at zero anyway: if we remember that we are sampling the function to represent it as a discrete approximation, each value we sample should really be considered the *center* of a grid cell.  $r=0$ can't be the center of a cell, because it is a boundary of the domain. \n",
    "\n",
    "Instead, we should think of 0 and 100 as the *edges* of our domain.  We have generated 101 equally-spaced edges, which means that we have 100 cells of equal size.  (If this is confusing, recall that each cell has a left and right edge.  There are 100 left edges, plus the right edge of the last cell.)\n",
    "\n",
    "To instead get an array of the *centers* of the cells, we can calculate the distance $dr$ between edges and add $dr/2$ to each left edge:"
   ]
  },
  {
   "cell_type": "code",
   "execution_count": 5,
   "id": "ef366e77",
   "metadata": {},
   "outputs": [
    {
     "data": {
      "text/plain": [
       "array([  1.,   3.,   5.,   7.,   9.,  11.,  13.,  15.,  17.,  19.,  21.,\n",
       "        23.,  25.,  27.,  29.,  31.,  33.,  35.,  37.,  39.,  41.,  43.,\n",
       "        45.,  47.,  49.,  51.,  53.,  55.,  57.,  59.,  61.,  63.,  65.,\n",
       "        67.,  69.,  71.,  73.,  75.,  77.,  79.,  81.,  83.,  85.,  87.,\n",
       "        89.,  91.,  93.,  95.,  97.,  99., 101., 103., 105., 107., 109.,\n",
       "       111., 113., 115., 117., 119., 121., 123., 125., 127., 129., 131.,\n",
       "       133., 135., 137., 139., 141., 143., 145., 147., 149., 151., 153.,\n",
       "       155., 157., 159., 161., 163., 165., 167., 169., 171., 173., 175.,\n",
       "       177., 179., 181., 183., 185., 187., 189., 191., 193., 195., 197.,\n",
       "       199.])"
      ]
     },
     "execution_count": 5,
     "metadata": {},
     "output_type": "execute_result"
    }
   ],
   "source": [
    "dr = r[1] - r[0]\n",
    "rmid = r[:-1] + dr/2 \n",
    "rmid\n",
    "# [:-1] up to and excluding last element of the array  \n",
    "# general syntax for array slicing: [min:max:step]\n",
    "# min: first index (inclusive)\n",
    "# max: last index (exclusive)\n",
    "#step: every nth element"
   ]
  },
  {
   "cell_type": "markdown",
   "id": "463de375",
   "metadata": {},
   "source": [
    "*Now* let's try sampling the NFW profile again:"
   ]
  },
  {
   "cell_type": "code",
   "execution_count": 6,
   "id": "a4e649d0",
   "metadata": {},
   "outputs": [],
   "source": [
    "# Define constants\n",
    "rho0 = 7.e-3 * (1e3)**3  # To make it Msun/kpc^3 so the units match\n",
    "rs = 20.\n",
    "\n",
    "rho = rho0/(rmid/rs)/(1+rmid/rs)**2"
   ]
  },
  {
   "cell_type": "markdown",
   "id": "83e0aa20",
   "metadata": {},
   "source": [
    "And let's take a look at the function:"
   ]
  },
  {
   "cell_type": "code",
   "execution_count": 7,
   "id": "d7d94d38",
   "metadata": {},
   "outputs": [
    {
     "data": {
      "text/plain": [
       "Text(0, 0.5, 'Density (M$_\\\\odot$/kpc$^3$)')"
      ]
     },
     "execution_count": 7,
     "metadata": {},
     "output_type": "execute_result"
    },
    {
     "data": {
      "image/png": "[encoded data removed]",
      "text/plain": [
       "<Figure size 720x480 with 1 Axes>"
      ]
     },
     "metadata": {
      "needs_background": "light"
     },
     "output_type": "display_data"
    }
   ],
   "source": [
    "fig, ax = plt.subplots()\n",
    "plt.plot(rmid, rho, '-o')\n",
    "ax.set_xlabel('Radius (kpc)')\n",
    "ax.set_ylabel(r'Density (M$_\\odot$/kpc$^3$)')"
   ]
  },
  {
   "cell_type": "markdown",
   "id": "e6e3ef63",
   "metadata": {},
   "source": [
    "Hmm, this plot is not so illustrative.  Because the NFW profile is a set of power laws, it is best viewed with log-log axes:"
   ]
  },
  {
   "cell_type": "code",
   "execution_count": 8,
   "id": "96ea8255",
   "metadata": {},
   "outputs": [
    {
     "data": {
      "image/png": "[encoded data removed]",
      "text/plain": [
       "<Figure size 720x480 with 1 Axes>"
      ]
     },
     "metadata": {
      "needs_background": "light"
     },
     "output_type": "display_data"
    }
   ],
   "source": [
    "fig, ax = plt.subplots()\n",
    "plt.plot(rmid, rho, '-o')\n",
    "ax.set_xlabel('Radius (kpc)')\n",
    "ax.set_ylabel(r'Density (M$_\\odot$/kpc$^3$)')\n",
    "ax.set_xscale('log')\n",
    "ax.set_yscale('log')"
   ]
  },
  {
   "cell_type": "markdown",
   "id": "94c360ad",
   "metadata": {},
   "source": [
    "While the blue line is drawing a straight line between each of the points, keep in mind that our approximation really represents the domain like this:"
   ]
  },
  {
   "cell_type": "code",
   "execution_count": null,
   "id": "59fd4842",
   "metadata": {},
   "outputs": [],
   "source": [
    "fig, ax = plt.subplots()\n",
    "plt.plot(rmid, rho, '-o')\n",
    "plt.step(rmid, rho, '--', where='mid', color='red')\n",
    "ax.set_xlabel('Radius (kpc)')\n",
    "ax.set_ylabel(r'Density (M$_\\odot$/kpc$^3$)')\n",
    "ax.set_xscale('log')\n",
    "ax.set_yscale('log')"
   ]
  },
  {
   "cell_type": "markdown",
   "id": "da73dec1",
   "metadata": {},
   "source": [
    "## In-class exercise\n",
    "\n",
    "Now that we have a measurement of the density at a set of radii spanning our domain, we can calculate an estimate of the total mass contained in the halo (without having to integrate the function analytically!).  What are the steps for calculating that mass numerically?\n",
    "\n",
    "Hint: Recall that mass = density * volume.  What is the *volume* of space corresponding to each radial value for which we have calculated the density, given that the profile is spherically symmetric?"
   ]
  },
  {
   "cell_type": "code",
   "execution_count": 10,
   "id": "fa9fb77b",
   "metadata": {},
   "outputs": [
    {
     "data": {
      "text/plain": [
       "12.020357240823737"
      ]
     },
     "execution_count": 10,
     "metadata": {},
     "output_type": "execute_result"
    }
   ],
   "source": [
    "# characterize the area: rho * pi (r1^2 - r2^2)\n",
    "# alternate way: rho * 2*pi*r_mid * dr    \n",
    "# in the 3d case: 4*pi*Rmid^2*dr\n",
    "shellvol = 4*pi*rmid**2 *dr\n",
    "Mtot = np.sum(rho*shellvol)\n",
    "np.log10(Mtot)"
   ]
  },
  {
   "cell_type": "markdown",
   "id": "84514190",
   "metadata": {},
   "source": [
    "## Non-linear grids\n",
    "\n",
    "Linearly-spaced grids are the simplest choice, but they are by no means the only option.  You can choose to sample the function in whatever way makes most sense given the functional form, you will just have to do some additional bookkeeping.  For example, you may want to concentrate your *resolution* (sampling density) in regions where the function is rapidly changing.\n",
    "\n",
    "For power laws like the NFW profile, it often makes the most sense to use *logarithmically*-spaced bins.  Let's try making an array of radii equally spaced in log space from 0.1 to 100 kpc:"
   ]
  },
  {
   "cell_type": "code",
   "execution_count": 11,
   "id": "6193d861",
   "metadata": {},
   "outputs": [
    {
     "data": {
      "text/plain": [
       "array([  0.1       ,   0.11481536,   0.13182567,   0.15135612,\n",
       "         0.17378008,   0.19952623,   0.22908677,   0.2630268 ,\n",
       "         0.30199517,   0.34673685,   0.39810717,   0.45708819,\n",
       "         0.52480746,   0.60255959,   0.69183097,   0.79432823,\n",
       "         0.91201084,   1.04712855,   1.20226443,   1.38038426,\n",
       "         1.58489319,   1.81970086,   2.08929613,   2.39883292,\n",
       "         2.7542287 ,   3.16227766,   3.63078055,   4.16869383,\n",
       "         4.78630092,   5.49540874,   6.30957344,   7.2443596 ,\n",
       "         8.31763771,   9.54992586,  10.96478196,  12.58925412,\n",
       "        14.45439771,  16.59586907,  19.05460718,  21.87761624,\n",
       "        25.11886432,  28.84031503,  33.11311215,  38.01893963,\n",
       "        43.65158322,  50.11872336,  57.54399373,  66.0693448 ,\n",
       "        75.8577575 ,  87.096359  , 100.        ])"
      ]
     },
     "execution_count": 11,
     "metadata": {},
     "output_type": "execute_result"
    }
   ],
   "source": [
    "r_log_edges = np.logspace(-1,2,51)\n",
    "r_log_edges"
   ]
  },
  {
   "cell_type": "markdown",
   "id": "865f60e2",
   "metadata": {},
   "source": [
    "We should find the \"midpoints\" of the bins in log space as well:"
   ]
  },
  {
   "cell_type": "code",
   "execution_count": 12,
   "id": "9d6d831b",
   "metadata": {},
   "outputs": [
    {
     "data": {
      "text/plain": [
       "array([ 0.10715193,  0.12302688,  0.14125375,  0.16218101,  0.18620871,\n",
       "        0.21379621,  0.24547089,  0.28183829,  0.32359366,  0.37153523,\n",
       "        0.42657952,  0.48977882,  0.56234133,  0.64565423,  0.74131024,\n",
       "        0.85113804,  0.97723722,  1.12201845,  1.28824955,  1.47910839,\n",
       "        1.69824365,  1.9498446 ,  2.23872114,  2.57039578,  2.95120923,\n",
       "        3.38844156,  3.89045145,  4.46683592,  5.12861384,  5.88843655,\n",
       "        6.76082975,  7.76247117,  8.91250938, 10.23292992, 11.74897555,\n",
       "       13.48962883, 15.48816619, 17.7827941 , 20.41737945, 23.44228815,\n",
       "       26.91534804, 30.90295433, 35.48133892, 40.73802778, 46.77351413,\n",
       "       53.70317964, 61.65950019, 70.79457844, 81.28305162, 93.32543008])"
      ]
     },
     "execution_count": 12,
     "metadata": {},
     "output_type": "execute_result"
    }
   ],
   "source": [
    "r_log_mids = 10.**((np.log10(r_log_edges[:-1]) + np.log10(r_log_edges[1:]))/2)\n",
    "r_log_mids"
   ]
  },
  {
   "cell_type": "markdown",
   "id": "fb5d52ce",
   "metadata": {},
   "source": [
    "Because one edge of our domain is $r=0$ and logarithms don't like zeros, we have to treat the smallest radial bin a little differently.  We'll manually set the left edge to 0 and the midpoint halfway to the right edge."
   ]
  },
  {
   "cell_type": "code",
   "execution_count": 13,
   "id": "7cbe9445",
   "metadata": {},
   "outputs": [],
   "source": [
    "r_log_edges[0] = 0\n",
    "r_log_mids[0] = r_log_edges[1]/2."
   ]
  },
  {
   "cell_type": "markdown",
   "id": "946eb96f",
   "metadata": {},
   "source": [
    "Now, each cell will have a different size, which means we need to keep track of $dr$ for every cell separately by subtracting all the left edges from all the right edges,"
   ]
  },
  {
   "cell_type": "code",
   "execution_count": 14,
   "id": "da151ef8",
   "metadata": {},
   "outputs": [
    {
     "data": {
      "text/plain": [
       "array([ 0.11481536,  0.01701031,  0.01953045,  0.02242396,  0.02574615,\n",
       "        0.02956053,  0.03394003,  0.03896837,  0.04474168,  0.05137032,\n",
       "        0.05898102,  0.06771927,  0.07775213,  0.08927138,  0.10249726,\n",
       "        0.1176826 ,  0.13511771,  0.15513589,  0.17811983,  0.20450893,\n",
       "        0.23480767,  0.26959527,  0.30953679,  0.35539578,  0.40804896,\n",
       "        0.46850289,  0.53791329,  0.61760709,  0.70910782,  0.81416471,\n",
       "        0.93478616,  1.07327811,  1.23228815,  1.4148561 ,  1.62447216,\n",
       "        1.86514359,  2.14147137,  2.45873811,  2.82300906,  3.24124808,\n",
       "        3.72145072,  4.27279712,  4.90582748,  5.63264359,  6.46714014,\n",
       "        7.42527037,  8.52535107,  9.7884127 , 11.23860149, 12.903641  ])"
      ]
     },
     "execution_count": 14,
     "metadata": {},
     "output_type": "execute_result"
    }
   ],
   "source": [
    "dr_log = r_log_edges[1:] - r_log_edges[:-1]\n",
    "dr_log"
   ]
  },
  {
   "cell_type": "markdown",
   "id": "6b7ee532",
   "metadata": {},
   "source": [
    "From here, we can calculate rho at each point (and calculate the total mass) in just the same way:"
   ]
  },
  {
   "cell_type": "code",
   "execution_count": 15,
   "id": "859cccaa",
   "metadata": {},
   "outputs": [],
   "source": [
    "rho = rho0/(r_log_mids/rs)/(1+r_log_mids/rs)**2"
   ]
  },
  {
   "cell_type": "markdown",
   "id": "64c830ff",
   "metadata": {},
   "source": [
    "When we show the grid points in a log-log plot, it is clear that we have successfully spaced them equally in log space as intended:"
   ]
  },
  {
   "cell_type": "code",
   "execution_count": 16,
   "id": "2b6a73fd",
   "metadata": {},
   "outputs": [
    {
     "data": {
      "image/png": "[encoded data removed]",
      "text/plain": [
       "<Figure size 720x480 with 1 Axes>"
      ]
     },
     "metadata": {
      "needs_background": "light"
     },
     "output_type": "display_data"
    }
   ],
   "source": [
    "fig, ax = plt.subplots()\n",
    "plt.plot(r_log_mids, rho, '-o')\n",
    "ax.set_xlabel('Radius (kpc)')\n",
    "ax.set_ylabel(r'Density (M$_\\odot$/kpc$^3$)')\n",
    "ax.set_xscale('log')\n",
    "ax.set_yscale('log')"
   ]
  },
  {
   "cell_type": "markdown",
   "id": "59831868",
   "metadata": {},
   "source": [
    "Why bother with the extra bookkeeping to make the grid logarithmic?  It will make our calculations more accurate without having to increase the number of grid cells.  Because the value of $\\rho$ is so much larger and is changing so much faster in the inner part of the halo, increasing the density of the grid in this region disproportionately impacts the accuracy of our calculation of total mass. "
   ]
  },
  {
   "cell_type": "code",
   "execution_count": 17,
   "id": "47b22401",
   "metadata": {},
   "outputs": [],
   "source": [
    "# Calculate mass estimate as a function of number of cells with linear and logarithmic grids\n",
    "\n",
    "ncells = np.arange(5,100)\n",
    "Mtot_lin = []\n",
    "Mtot_log = []\n",
    "\n",
    "for n in ncells:\n",
    "    # Linear grid\n",
    "    redges = np.linspace(0,200,n+1)\n",
    "    dr = redges[1] - redges[0]\n",
    "    rmid = redges[:-1] + dr/2\n",
    "    rho = rho0/(rmid/rs)/(1+rmid/rs)**2\n",
    "    shellvol = 4*pi*rmid**2 * dr\n",
    "    Mtot_lin.append(np.sum(rho*shellvol))\n",
    "    \n",
    "    # Logarithmic grid\n",
    "    r_log_edges = np.logspace(1-n/50,np. log10(200),n+1)\n",
    "    r_log_mids = 10.**((np.log10(r_log_edges[:-1]) + np.log10(r_log_edges[1:]))/2)\n",
    "    r_log_edges[0] = 0\n",
    "    r_log_mids[0] = r_log_edges[1]/2.\n",
    "    dr_log = r_log_edges[1:] - r_log_edges[:-1]\n",
    "    rho = rho0/(r_log_mids/rs)/(1+r_log_mids/rs)**2\n",
    "    shellvol = 4*pi*r_log_mids**2 * dr_log\n",
    "    Mtot_log.append(np.sum(rho*shellvol))"
   ]
  },
  {
   "cell_type": "code",
   "execution_count": 18,
   "id": "930e661a",
   "metadata": {},
   "outputs": [
    {
     "data": {
      "text/plain": [
       "<matplotlib.legend.Legend at 0x7fc9d0cd7820>"
      ]
     },
     "execution_count": 18,
     "metadata": {},
     "output_type": "execute_result"
    },
    {
     "data": {
      "image/png": "[encoded data removed]",
      "text/plain": [
       "<Figure size 720x480 with 1 Axes>"
      ]
     },
     "metadata": {
      "needs_background": "light"
     },
     "output_type": "display_data"
    }
   ],
   "source": [
    "fig, ax = plt.subplots()\n",
    "plt.plot(ncells, Mtot_lin, '-', color='blue')\n",
    "plt.plot(ncells, Mtot_log, '-', color='red')\n",
    "ax.set_xlabel('Number of Grid Cells')\n",
    "ax.set_ylabel(r'Estimated Total Mass (M$_\\odot$)')\n",
    "ax.set_yscale('log')\n",
    "ax.legend(['linear', 'log'])"
   ]
  },
  {
   "cell_type": "markdown",
   "id": "112e4c5d",
   "metadata": {},
   "source": [
    "Note: you should **not** take away from this that logarithmic gridding is always better!  It *can* be better in certain circumstances, but would often be a terrible choice.  The real lesson is this: it is often worth your time to **adapt your numerical choices to your specific problem.**"
   ]
  }
 ],
 "metadata": {
  "kernelspec": {
   "display_name": "Python 3.8.9 64-bit",
   "language": "python",
   "name": "python3"
  },
  "language_info": {
   "codemirror_mode": {
    "name": "ipython",
    "version": 3
   },
   "file_extension": ".py",
   "mimetype": "text/x-python",
   "name": "python",
   "nbconvert_exporter": "python",
   "pygments_lexer": "ipython3",
   "version": "3.8.9"
  },
  "vscode": {
   "interpreter": {
    "hash": "31f2aee4e71d21fbe5cf8b01ff0e069b9275f58929596ceb00d14d90e3e16cd6"
   }
  }
 },
 "nbformat": 4,
 "nbformat_minor": 5
}
