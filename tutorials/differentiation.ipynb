{
 "cells": [
  {
   "cell_type": "markdown",
   "id": "5630bcc7",
   "metadata": {},
   "source": [
    "#### Wesleyan University ASTR 221\n",
    "\n",
    "## Tutorial 5: Numerical Differentiation (Finite Differences)\n",
    "\n",
    "There are many circumstances when one might have some discrete data points and want to know the *derivative* of it, i.e., how it is changing.  (For example, when estimating some other quantity that depends on the spatial or temporal gradient of your data, such as the force exerted on a fluid when there is a spatial gradient in pressure.)  The most basic methods for estimating the derivative numerically are called **finite-difference methods**."
   ]
  },
  {
   "cell_type": "code",
   "execution_count": null,
   "id": "6e2b6be5",
   "metadata": {},
   "outputs": [],
   "source": [
    "%matplotlib inline\n",
    "import numpy as np\n",
    "import matplotlib.pyplot as plt\n",
    "plt.rcParams['figure.dpi'] = 120  \n",
    "from math import pi"
   ]
  },
  {
   "cell_type": "markdown",
   "id": "bb7c0585",
   "metadata": {},
   "source": [
    "Let's return to our sine wave, sampled every $\\pi/3$ radians:"
   ]
  },
  {
   "cell_type": "code",
   "execution_count": null,
   "id": "bff78386",
   "metadata": {},
   "outputs": [],
   "source": [
    "# Construct array of equally-spaced grid points\n",
    "xmin = 0.\n",
    "xmax = 2*pi\n",
    "npts = 7\n",
    "dx = (xmax - xmin)/(npts-1)\n",
    "\n",
    "# Sample points\n",
    "x = np.linspace(xmin, xmax, npts)\n",
    "y = np.sin(x)\n",
    "\n",
    "# Make a very high-resolution x-grid to show the underlying sine curve\n",
    "x_hr = np.linspace(xmin, xmax, 200)\n",
    "y_hr = np.sin(x_hr)\n",
    "\n",
    "fig, ax = plt.subplots()\n",
    "plt.plot(x_hr,y_hr, '-', lw=2, color='deepskyblue')\n",
    "plt.plot(x, y, 'o', ms=5, color='red')\n",
    "ax.set_xlabel('x')\n",
    "ax.set_ylabel('y')"
   ]
  },
  {
   "cell_type": "markdown",
   "id": "7790aed2",
   "metadata": {},
   "source": [
    "Because we know that the underlying function is a sine curve, we know its exact derivative: $f'(x) = \\cos(x)$.  However, in most cases you do *not* know the underlying function, and have to estimate its derivative from the sampled points.  \n",
    "\n",
    "The most straightforward way to estimate the derivative is to measure the slope of the line between neighboring points.  To estimate the derivative at a given sample point $x_i$, one can use the slope between $x_i$ and $x_{i+1}$ (*forward-difference*), $x_i$ and $x_{i-1}$ (*backward-difference*), or $x_{i-1}$ and $x_{i+1}$ (*central-difference*).  The expressions for these are:\n",
    "\n",
    "**Forward-difference:** \n",
    "$$f'(x_i) \\approx \\frac{f(x_{i+1})-f(x_i)}{x_{i+1} - x_i}$$\n",
    "\n",
    "**Backward-difference:** \n",
    "$$f'(x_i) \\approx \\frac{f(x_{i})-f(x_{i-1})}{x_{i} - x_{i-1}}$$\n",
    "\n",
    "**Central-difference:** \n",
    "$$f'(x_i) \\approx \\frac{f(x_{i+1})-f(x_{i-1})}{x_{i+1} - x_{i-1}}$$\n",
    "\n",
    "Below I have written functions that calculate the derivative at sample point $x_i$ with each of these three methods:"
   ]
  },
  {
   "cell_type": "code",
   "execution_count": null,
   "id": "be1fdd10",
   "metadata": {},
   "outputs": [],
   "source": [
    "# Given a set of points (xp, yp), calculates the derivative at xp[i]\n",
    "# using the forward difference method\n",
    "def forward_diff_single(i, xp, yp):\n",
    "    if i >= len(xp)-1 or i < 0:\n",
    "        print(\"Index outside the range allowed for forward difference\")\n",
    "        return\n",
    "    \n",
    "    return (yp[i+1] - yp[i])/(xp[i+1] - xp[i])\n",
    "\n",
    "# Given a set of points (xp, yp), calculates the derivative at xp[i]\n",
    "# using the backward difference method\n",
    "def backward_diff_single(i, xp, yp):\n",
    "    if i <= 0 or i > len(xp)-1:\n",
    "        print(\"Index outside the range allowed for backward difference\")\n",
    "        return\n",
    "    \n",
    "    return (yp[i] - yp[i-1])/(xp[i] - xp[i-1])\n",
    "\n",
    "# Given a set of points (xp, yp), calculates the derivative at xp[i]\n",
    "# using the central difference method\n",
    "def central_diff_single(i, xp, yp):\n",
    "    if i <= 0 or i >= len(xp)-1:\n",
    "        print(\"Index outside the range allowed for central difference\")\n",
    "        return\n",
    "    \n",
    "    return (yp[i+1] - yp[i-1])/(xp[i+1] - xp[i-1])"
   ]
  },
  {
   "cell_type": "markdown",
   "id": "bfad7358",
   "metadata": {},
   "source": [
    "Let's see how each of these functions performs for the third point on our sine curve.  On top of the intrinsic sine curve and the sample points, below I plot three lines in point-slope form,\n",
    "$$ y = m*(x-x_i) + y_i $$\n",
    "where $m$ is the slope returned by each of the functions above and $(x_i, y_i)$ is the sample point."
   ]
  },
  {
   "cell_type": "code",
   "execution_count": null,
   "id": "17dc2cfa",
   "metadata": {},
   "outputs": [],
   "source": [
    "fig, ax = plt.subplots()\n",
    "plt.plot(x_hr,y_hr, '-', color='deepskyblue', lw=2)\n",
    "plt.plot(x, y, 'o', ms=5, color='red')\n",
    "ax.set_xlabel('x')\n",
    "ax.set_ylabel('y')\n",
    "\n",
    "i = 2\n",
    "\n",
    "plt.plot(x_hr, forward_diff_single(i, x, y)*(x_hr - x[i]) + y[i], '-', color='gold', label='forward')\n",
    "plt.plot(x_hr, backward_diff_single(i, x, y)*(x_hr - x[i]) + y[i], '-', color='violet', label='backward')\n",
    "plt.plot(x_hr, central_diff_single(i, x, y)*(x_hr - x[i]) + y[i], '-', color='green', label='central')\n",
    "\n",
    "ax.set_ylim(-1.3, 1.3)\n",
    "ax.legend()"
   ]
  },
  {
   "cell_type": "markdown",
   "id": "1153609d",
   "metadata": {},
   "source": [
    "Note that the forward difference line goes through the sample point and the next point, the backward difference line goes through the sample point and the previous point, and the central difference line goes through only the sample point but is parallel to the line connecting the next and previous points.\n",
    "\n",
    "Now let's write a more general set of functions that will calculate the derivative over the whole array of sample points.  The functions below are equivalent to the ones above, except that they make the calculation over the whole array rather than a single point at a time.  To understand what is going on with the array notation below, recall that\n",
    "\n",
    "```x[1:] = [x[1], x[2], x[3], ... , x[n-1]]```\n",
    "\n",
    "and\n",
    "\n",
    "```x[:-1] = [x[0], x[1], x[2], ... , x[n-2]]```\n",
    "\n",
    "such that the difference of the two arrays is\n",
    "\n",
    "```x[1:] - x[:-1] = [x[1] - x[0], x[2] - x[1], x[3] - x[2], ... , x[n-1] - x[n-2]]```\n",
    "\n",
    "Other than the array notation, the main difference between the functions below and the single-point functions above is that none of the finite-difference methods can be applied over the entire array: they are all inapplicable at at least one endpoint.  So, there is also a line in each function to apply a compatible method to the missing endpoint(s)."
   ]
  },
  {
   "cell_type": "code",
   "execution_count": null,
   "id": "eb5c544d",
   "metadata": {},
   "outputs": [],
   "source": [
    "# Returns an array of forward differences corresponding to each point in the given arrays\n",
    "# Uses backward difference at the last point\n",
    "def forward_diff_full(xp, yp):\n",
    "    yprime = 0.*yp\n",
    "    yprime[:-1] = (yp[1:] - yp[:-1])/(xp[1:] - xp[:-1])\n",
    "    yprime[-1] = backward_diff_single(len(xp)-1, xp, yp)\n",
    "    \n",
    "    return yprime\n",
    "\n",
    "# Returns an array of backward differences corresponding to each point in the given arrays\n",
    "# Uses forward difference at the first point\n",
    "# Note how this is identical to forward_diff_full, except it assigns the derivative to the other endpoint!\n",
    "def backward_diff_full(xp, yp):\n",
    "    yprime = 0.*yp\n",
    "    yprime[1:] = (yp[1:] - yp[:-1])/(xp[1:] - xp[:-1])\n",
    "    yprime[0] = forward_diff_single(0, xp, yp)\n",
    "    \n",
    "    return yprime\n",
    "\n",
    "# Returns an array of central differences corresponding to each point in the given arrays\n",
    "# Uses backward difference at the last point and forward difference at the first point\n",
    "def central_diff_full(xp, yp):\n",
    "    yprime = 0.*yp\n",
    "    yprime[1:-1] = (yp[2:] - yp[:-2])/(xp[2:] - xp[:-2])\n",
    "    yprime[0] = forward_diff_single(0, xp, yp)\n",
    "    yprime[-1] = backward_diff_single(len(xp)-1, xp, yp)\n",
    "    \n",
    "    return yprime"
   ]
  },
  {
   "cell_type": "markdown",
   "id": "2d08addb",
   "metadata": {},
   "source": [
    "Let's see how these finite-difference estimates stack up against the exact solution, $f'(x) = \\cos(x)$.  The block below calculates the derivatives and plots them directly:"
   ]
  },
  {
   "cell_type": "code",
   "execution_count": null,
   "id": "ef366e77",
   "metadata": {},
   "outputs": [],
   "source": [
    "yprime_hr = np.cos(x_hr)\n",
    "\n",
    "fig, ax = plt.subplots()\n",
    "plt.plot(x_hr, yprime_hr, '-', color='deepskyblue', lw=3, label='exact')\n",
    "plt.plot(x, forward_diff_full(x, y), 'o-', ms=5, color='gold', label='forward')\n",
    "plt.plot(x, backward_diff_full(x, y), 'o-', ms=5, color='violet', label='backward')\n",
    "plt.plot(x, central_diff_full(x, y), 'o-', ms=5, color='green', label='central')\n",
    "ax.set_xlabel('x')\n",
    "ax.set_ylabel('y\\'')\n",
    "ax.legend()"
   ]
  },
  {
   "cell_type": "markdown",
   "id": "8d371fcf",
   "metadata": {},
   "source": [
    "Not bad!  You can already see by eye that the central-difference method is more accurate than the forward- or backward-difference methods.  All the methods will get more accurate as the distance between points $\\Delta x$ decreases.  Try messing around with the value of ```npts``` in the block below, which repeats the calculation from above with the given number of sample points.\n",
    "\n",
    "In addition, we plot the result from numpy's ```gradient()``` function - which, as you will see, is identical to our central-difference approximation!"
   ]
  },
  {
   "cell_type": "code",
   "execution_count": null,
   "id": "3fa4c182",
   "metadata": {},
   "outputs": [],
   "source": [
    "npts = 10\n",
    "dx = (xmax - xmin)/(npts-1)\n",
    "\n",
    "# Sample points\n",
    "x = np.linspace(xmin, xmax, npts)\n",
    "y = np.sin(x)\n",
    "\n",
    "yprime_hr = np.cos(x_hr)\n",
    "\n",
    "fig, ax = plt.subplots()\n",
    "plt.plot(x_hr, yprime_hr, '-', color='deepskyblue', lw=3, label='exact')\n",
    "plt.plot(x, forward_diff_full(x, y), 'o-', ms=5, color='gold', label='forward')\n",
    "plt.plot(x, backward_diff_full(x, y), 'o-', ms=5, color='violet', label='backward')\n",
    "plt.plot(x, central_diff_full(x, y), 'o-', ms=5, color='green', label='central')\n",
    "plt.plot(x, np.gradient(y, x[1]-x[0]), 'o', ms=2, color='lawngreen', label='numpy')\n",
    "ax.set_xlabel('x')\n",
    "ax.set_ylabel('y\\'')\n",
    "ax.legend()"
   ]
  },
  {
   "cell_type": "markdown",
   "id": "f6a8fb69",
   "metadata": {},
   "source": [
    "Finally, here's a more complicated function to play around with.  The code below repeats the exercise from above, but with the complex function we used in Tutorial 4 to test our interpolation schemes.  Its derivative is even more complicated, but our finite-difference methods do a pretty good job of capturing it for npts > 15 or so."
   ]
  },
  {
   "cell_type": "code",
   "execution_count": null,
   "id": "8871ed16",
   "metadata": {},
   "outputs": [],
   "source": [
    "npts = 15\n",
    "dx = (xmax - xmin)/(npts-1)\n",
    "\n",
    "# Sample points\n",
    "x = np.linspace(xmin, xmax, npts)\n",
    "y = np.exp(-x/5)*(np.sin(x/1.5) - np.cos(x*3)/2)\n",
    "\n",
    "y_hr = np.exp(-x_hr/5)*(np.sin(x_hr/1.5) - np.cos(x_hr*3)/2)\n",
    "yprime_hr = 0.1*np.exp(-x_hr/5)*(-2*np.sin(2*x_hr/3) + 15*np.sin(3*x_hr) + 20./3*np.cos(2*x_hr/3) + np.cos(3.*x_hr))\n",
    "\n",
    "fig, ax = plt.subplots()\n",
    "plt.plot(x_hr, y_hr, '-', color='deepskyblue', lw=3, label='exact')\n",
    "plt.plot(x, y, 'o', color='red', ms=5, label='samples')\n",
    "ax.set_xlabel('x')\n",
    "ax.set_ylabel('y')\n",
    "ax.legend()\n",
    "\n",
    "fig, ax = plt.subplots()\n",
    "plt.plot(x_hr, yprime_hr, '-', color='deepskyblue', lw=3, label='exact')\n",
    "plt.plot(x, forward_diff_full(x, y), 'o-', ms=5, color='gold', label='forward')\n",
    "plt.plot(x, backward_diff_full(x, y), 'o-', ms=5, color='violet', label='backward')\n",
    "plt.plot(x, central_diff_full(x, y), 'o-', ms=5, color='green', label='central')\n",
    "ax.set_xlabel('x')\n",
    "ax.set_ylabel('y\\'')\n",
    "ax.legend()"
   ]
  },
  {
   "cell_type": "code",
   "execution_count": null,
   "id": "8a4a8059",
   "metadata": {},
   "outputs": [],
   "source": []
  }
 ],
 "metadata": {
  "kernelspec": {
   "display_name": "Python 3 (ipykernel)",
   "language": "python",
   "name": "python3"
  },
  "language_info": {
   "codemirror_mode": {
    "name": "ipython",
    "version": 3
   },
   "file_extension": ".py",
   "mimetype": "text/x-python",
   "name": "python",
   "nbconvert_exporter": "python",
   "pygments_lexer": "ipython3",
   "version": "3.9.12"
  }
 },
 "nbformat": 4,
 "nbformat_minor": 5
}
