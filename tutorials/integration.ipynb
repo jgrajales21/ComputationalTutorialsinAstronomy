{
 "cells": [
  {
   "cell_type": "markdown",
   "id": "5630bcc7",
   "metadata": {},
   "source": [
    "#### Wesleyan University ASTR 221\n",
    "\n",
    "## Tutorial 6: Numerical Integration (\"Quadrature\")\n",
    "\n",
    "There are two types of circumstances when one might want to integrate something numerically: when the underlying functional form is unknown, or when it is so complicated that evaluating the integral analytically is difficult or impossible.  In either case, we will want to use samples of the function at discrete points to estimate the total area under the curve.  "
   ]
  },
  {
   "cell_type": "code",
   "execution_count": null,
   "id": "6e2b6be5",
   "metadata": {},
   "outputs": [],
   "source": [
    "%matplotlib inline\n",
    "import numpy as np\n",
    "import matplotlib.pyplot as plt\n",
    "plt.rcParams['figure.dpi'] = 120  \n",
    "from math import pi"
   ]
  },
  {
   "cell_type": "markdown",
   "id": "bb7c0585",
   "metadata": {},
   "source": [
    "Below I define the function ```f(x)``` that we want to integrate.  In this case, I've made it a 4th-degree polynomial, but you can define it however you want!  The second function, ```int_f()``` gives the (analytically-known) definite integral of that function."
   ]
  },
  {
   "cell_type": "code",
   "execution_count": null,
   "id": "bff78386",
   "metadata": {},
   "outputs": [],
   "source": [
    "# Function\n",
    "def f(x):\n",
    "    return 10*x - 5*x**2 + 7*x**3 - x**4\n",
    "\n",
    "# Definite integral of function above from xmin to xmax\n",
    "def int_f(xmin, xmax):\n",
    "    return -xmax**5/5 + 7*xmax**4/4 - 5*xmax**3/3 + 5*xmax**2 - (-xmin**5/5 + 7*xmin**4/4 - 5*xmin**3/3 + 5*xmin**2)\n",
    "\n",
    "# Construct array of equally-spaced points\n",
    "xmin = 0.\n",
    "xmax = 6\n",
    "npts = 10\n",
    "\n",
    "# Sample points\n",
    "x = np.linspace(xmin, xmax, npts)\n",
    "y = f(x)\n",
    "\n",
    "# Make a very high-resolution x-grid to show the underlying curve\n",
    "x_hr = np.linspace(xmin, xmax, 200)\n",
    "y_hr = f(x_hr)\n",
    "\n",
    "# Plot the curve, sample points, and area under the curve\n",
    "fig, ax = plt.subplots()\n",
    "plt.plot(x_hr,y_hr, '-', lw=5, color='deepskyblue')\n",
    "plt.fill_between(x_hr, y_hr, color='blue', alpha=0.5)\n",
    "plt.plot(x, y, 'o', ms=5, color='red')\n",
    "ax.set_xlabel('x')\n",
    "ax.set_ylabel('y')"
   ]
  },
  {
   "cell_type": "markdown",
   "id": "7790aed2",
   "metadata": {},
   "source": [
    "We'll be exploring methods for calculating the area in dark blue: the integral\n",
    "$$\\int_{x_0}^{x_{n-1}} f(x)~dx.$$\n",
    "Because we know the underlying functional form, we know the exact value of this integral - but how close can we get to this value with numerical approximations, using only our discrete sample points?\n",
    "\n",
    "The most basic **Newton-Cotes method** - that is, a method which uses the sample points to define shapes that describe the area under the curve - is the *rectangle rule*.  Visually, it looks something like this:"
   ]
  },
  {
   "cell_type": "code",
   "execution_count": null,
   "id": "be1fdd10",
   "metadata": {},
   "outputs": [],
   "source": [
    "fig, ax = plt.subplots()\n",
    "plt.plot(x_hr,y_hr, '-', lw=5, color='deepskyblue')\n",
    "plt.plot(x, y, 'o', ms=5, color='red')\n",
    "plt.bar(x[:-1], y[:-1], width=(x[1]-x[0]), edgecolor='blue', align='edge', color='blue', alpha=0.5)\n",
    "ax.set_xlabel('x')\n",
    "ax.set_ylabel('y')"
   ]
  },
  {
   "cell_type": "markdown",
   "id": "bfad7358",
   "metadata": {},
   "source": [
    "The area of each rectangle is base x height, where the base is $\\Delta x$ and the height is $f(x_i)$.  The full area under the curve is therefore approximated by\n",
    "$$\\int_{x_0}^{x_{n-1}} f(x)~dx \\approx \\sum_{i=0}^{n-2} f(x_i) \\Delta x.$$\n",
    "Note that in this approximation, we do not use the last sample point.\n",
    "\n",
    "Let's write a function to perform this sum for us:"
   ]
  },
  {
   "cell_type": "code",
   "execution_count": null,
   "id": "17dc2cfa",
   "metadata": {},
   "outputs": [],
   "source": [
    "# Estimates the definite integral of y over the range given by x\n",
    "# Assumes that x and y are numpy arrays\n",
    "def int_rectangle(x,y):\n",
    "    deltax = x[1:] - x[:-1]\n",
    "    return np.sum(y[:-1]*deltax)"
   ]
  },
  {
   "cell_type": "markdown",
   "id": "80fbd727",
   "metadata": {},
   "source": [
    "How close are we?  By visual inspection, we must be undercounting, but we can check directly since we know the true value of the integral:"
   ]
  },
  {
   "cell_type": "code",
   "execution_count": null,
   "id": "7f08c9ab",
   "metadata": {},
   "outputs": [],
   "source": [
    "print(int_rectangle(x,y)/int_f(xmin, xmax))"
   ]
  },
  {
   "cell_type": "markdown",
   "id": "139a6667",
   "metadata": {},
   "source": [
    "so we have an error of about 7%.  This will improve if we increase the number of points:"
   ]
  },
  {
   "cell_type": "code",
   "execution_count": null,
   "id": "9a1a3c44",
   "metadata": {},
   "outputs": [],
   "source": [
    "npts = 20\n",
    "dx = (xmax - xmin)/(npts-1)\n",
    "\n",
    "# Sample points\n",
    "x = np.linspace(xmin, xmax, npts)\n",
    "y = f(x)\n",
    "\n",
    "fig, ax = plt.subplots()\n",
    "plt.plot(x_hr,y_hr, '-', lw=5, color='deepskyblue')\n",
    "plt.plot(x, y, 'o', ms=5, color='red')\n",
    "plt.bar(x[:-1], y[:-1], width=(x[1]-x[0]), edgecolor='blue', align='edge', color='blue', alpha=0.5)\n",
    "ax.set_xlabel('x')\n",
    "ax.set_ylabel('y')\n",
    "\n",
    "print(int_rectangle(x,y)/int_f(xmin,xmax))"
   ]
  },
  {
   "cell_type": "markdown",
   "id": "221c3e82",
   "metadata": {},
   "source": [
    "Our estimate now looks much closer, and indeed our error has gone down to about 3%.\n",
    "\n",
    "Next, let's consider the **trapezoid rule**.  Rather than drawing a rectangle between $x_i$ and $x_{i+1}$, we draw a straight line between the points and use that to define a *trapezoid*, like so:"
   ]
  },
  {
   "cell_type": "code",
   "execution_count": null,
   "id": "ef366e77",
   "metadata": {},
   "outputs": [],
   "source": [
    "npts = 7\n",
    "dx = (xmax - xmin)/(npts-1)\n",
    "\n",
    "# Sample points\n",
    "x = np.linspace(xmin, xmax, npts)\n",
    "y = f(x)\n",
    "\n",
    "fig, ax = plt.subplots()\n",
    "plt.plot(x_hr,y_hr, '-', lw=3, color='deepskyblue')\n",
    "plt.plot(x, y, 'o', ms=5, color='red')\n",
    "\n",
    "# Draw a trapezoid between each pair of points\n",
    "for i in range(npts-1):\n",
    "    plt.fill_between([x[i], x[i+1]], [y[i], y[i+1]], edgecolor='blue', color='blue', alpha=0.5)\n",
    "\n",
    "ax.set_xlabel('x')\n",
    "ax.set_ylabel('y')"
   ]
  },
  {
   "cell_type": "markdown",
   "id": "8d371fcf",
   "metadata": {},
   "source": [
    "The area of each trapezoid is\n",
    "$$\\int_{x_i}^{x_{i+1}} f(x)~dx \\approx \\frac{f(x_i) + f(x_{i+1})}{2} \\Delta x,$$\n",
    "so the sum over all trapezoids is\n",
    "$$\\int_{x_0}^{x_{n-1}} f(x) dx \\approx (f(x_0)/2 + f(x_1) + f(x_2) + ... + f(x_{n-2}) + f(x_{n-1})/2)~\\Delta x $$\n",
    "where every value of $f(x_i)$ is multiplied by $\\Delta x$ except for the endpoints, which are multiplied by $\\Delta x/2$.  This is equivalent to\n",
    "$$\\left(\\sum_{i=0}^{n-1} f(x_i) \\Delta x \\right) - (f(x_0) + f(x_{i-1})) \\frac{\\Delta x}{2},$$\n",
    "which is how the integral is calculated in the function below:"
   ]
  },
  {
   "cell_type": "code",
   "execution_count": null,
   "id": "3fa4c182",
   "metadata": {},
   "outputs": [],
   "source": [
    "# Estimates the definite integral of y over the range given by x\n",
    "# Assumes that x and y are numpy arrays\n",
    "# Assumes that the points are evenly spaced\n",
    "def int_trapezoid(x,y):\n",
    "    deltax = x[1] - x[0]\n",
    "    return (np.sum(y) - y[0]/2 - y[-1]/2)*deltax\n",
    "\n",
    "# Calculate the integral using the trapezoid rule and compare it to the true value\n",
    "print(int_trapezoid(x,y)/int_f(xmin, xmax))"
   ]
  },
  {
   "cell_type": "markdown",
   "id": "f6a8fb69",
   "metadata": {},
   "source": [
    "Here we can see that with only 7 points, the trapezoid rule is already out-performing the rectangle rule at 20 points!\n",
    "\n",
    "Our final Newton-Cotes method is to use sets of three points (i.e., every two intervals or *panels*) to define **parabolas**:\n",
    "$$f(x_i < x < x_{i+2}) \\approx A(x-x_i)^2 + B(x-x_i) + C.$$\n",
    "We have discussed this before in the context of interpolation; the solution for the coefficients $A$, $B$, and $C$ is referred to as **Simpson's rule**.  Below I show the parabolas that are defined by 7 sample points on our function:"
   ]
  },
  {
   "cell_type": "code",
   "execution_count": null,
   "id": "9ba75855",
   "metadata": {},
   "outputs": [],
   "source": [
    "npts = 7\n",
    "dx = (xmax - xmin)/(npts-1)\n",
    "\n",
    "# Sample points\n",
    "x = np.linspace(xmin, xmax, npts)\n",
    "y = f(x)\n",
    "\n",
    "fig, ax = plt.subplots()\n",
    "plt.plot(x_hr,y_hr, '-', lw=3, color='deepskyblue')\n",
    "plt.plot(x, y, 'o', ms=3, color='red')\n",
    "for i in np.arange(0,npts-1,2):\n",
    "    A = (y[i] - 2*y[i+1] + y[i+2])/(2*(x[1]-x[0])**2)\n",
    "    B = (-3*y[i] + 4*y[i+1] - y[i+2])/(2*(x[1]-x[0]))\n",
    "    C = y[i]\n",
    "    inrange = (x_hr >= x[i]) & (x_hr <= x[i+2])\n",
    "    xplt = x_hr[inrange]\n",
    "    plt.fill_between(xplt, A*(xplt-x[i])**2 + B*(xplt-x[i]) + C, edgecolor='blue', color='blue', alpha=0.5, lw=1.5)\n",
    "ax.set_xlabel('x')\n",
    "ax.set_ylabel('y')"
   ]
  },
  {
   "cell_type": "markdown",
   "id": "6d0bfb51",
   "metadata": {},
   "source": [
    "You can see already by eye that this is a pretty stellar approximation!  The Simpson's rule parabolas integrate to\n",
    "$$ \\int_{x_i}^{x_{i+2}} f(x)~dx \\approx \\frac{\\Delta x}{3}(f(x_i) + 4f(x_{i+1}) + f(x_{i+2}),$$\n",
    "so the sum over all panels gives\n",
    "$$\\int_{x_0}^{x_{n-1}} f(x) dx \\approx \\frac{\\Delta x}{3}(f(x_0) + 4f(x_1) + 2f(x_2) + 4f(x_3) + ... + 2f(x_{n-3}) + 4f(x_{n-2}) + f(x_{n-1})) $$\n",
    "for odd $n$.  This method cannot be applied for even $n$ (because each parabola uses two intervals so there would be one left over), but one can tack on a trapezoid at one end if need be.  (If so, this is often where most of the error will come from!)  The function below implements this method:"
   ]
  },
  {
   "cell_type": "code",
   "execution_count": null,
   "id": "8871ed16",
   "metadata": {},
   "outputs": [],
   "source": [
    "# Estimates the definite integral of y over the range given by x\n",
    "# Assumes that x and y are numpy arrays\n",
    "# Assumes that the points are evenly spaced\n",
    "# Works best if there are an odd number of points, but will handle an even number\n",
    "def int_parabola(x,y):\n",
    "    \n",
    "    # If number of panels is odd (number of points is even), need to remove last point for now\n",
    "    if len(x) % 2 == 0:\n",
    "        y_parab = y[:-1]\n",
    "    else:\n",
    "        y_parab = y\n",
    "    \n",
    "    # Integrate using Simpson's rule (parabolic interpolation)\n",
    "    deltax = x[1] - x[0]\n",
    "    parab = np.sum(4*y_parab[1::2]) + np.sum(2*y_parab[0::2]) - y_parab[0] - y_parab[-1]\n",
    "    parab = parab*deltax/3.\n",
    "    \n",
    "    # Tack on a trapezoid for the last panel if number of panels is odd\n",
    "    if len(x) % 2 == 0:\n",
    "        parab += (y[-1] + y[-2])*deltax/2.\n",
    "        \n",
    "    return parab\n",
    "\n",
    "# Evaluate the integral using this function and compare to the true value\n",
    "print(int_parabola(x,y)/int_f(xmin, xmax))"
   ]
  },
  {
   "cell_type": "markdown",
   "id": "1e63f4e0",
   "metadata": {},
   "source": [
    "Wow!  With only three parabolas (7 points), the error is only 0.2\\%!\n",
    "\n",
    "Finally, let's take a look at how the error in all three methods changes as a function of the number of sample points (i.e., resolution).  "
   ]
  },
  {
   "cell_type": "code",
   "execution_count": null,
   "id": "8a4a8059",
   "metadata": {},
   "outputs": [],
   "source": [
    "nmin = 3  # Should be odd\n",
    "nmax = 21\n",
    "\n",
    "# Evaluate the integral using each method for every odd number of points between nmin and nmax\n",
    "estimate_rectangle = [int_rectangle(np.linspace(xmin, xmax, npts), f(np.linspace(xmin, xmax, npts))) for npts in np.arange(nmin, nmax+1,2)]\n",
    "estimate_trapezoid = [int_trapezoid(np.linspace(xmin, xmax, npts), f(np.linspace(xmin, xmax, npts))) for npts in np.arange(nmin, nmax+1,2)]\n",
    "estimate_parabola = [int_parabola(np.linspace(xmin, xmax, npts), f(np.linspace(xmin, xmax, npts))) for npts in np.arange(nmin, nmax+1,2)]"
   ]
  },
  {
   "cell_type": "code",
   "execution_count": null,
   "id": "dc0a36df",
   "metadata": {},
   "outputs": [],
   "source": [
    "fig, ax = plt.subplots()\n",
    "alln = np.arange(nmin, nmax+1,2)\n",
    "trueval = int_f(xmin, xmax)\n",
    "\n",
    "# Plot the error relative to the true value as a function of number of points\n",
    "plt.plot(alln, 100*(trueval-np.array(estimate_rectangle))/trueval, '-', color='red', lw=3, label='Rectangle')\n",
    "plt.plot(alln, 100*(trueval-np.array(estimate_trapezoid))/trueval, '-', color='gold', lw=3, label='Trapezoid')\n",
    "plt.plot(alln, 100*(trueval-np.array(estimate_parabola))/trueval, '-', color='blue', lw=3, label='Parabola')\n",
    "\n",
    "ax.set_xlabel(r'$N_{pts}$')\n",
    "ax.set_ylabel('% Error')\n",
    "ax.set_ylim(1e-3,50)\n",
    "ax.set_yscale('log')\n",
    "ax.legend()"
   ]
  },
  {
   "cell_type": "markdown",
   "id": "9b6009ce",
   "metadata": {},
   "source": [
    "There are many other, more sophisticated methods out there for integrating functions numerically.  These usually apply to the scenario where you know the functional form, but it is not analytically tractable - in that case, you have freedom to choose the evaluation (sample) points, and there are clever ways to choose them that can increase the accuracy and speed of the calculation.  (See: Gaussian quadrature)  There are also higher-order Newton-Cotes methods, which use a larger number of points to define the shapes.\n",
    "\n",
    "As a **rule of thumb**, however: the simple trapezoid rule is pretty robust against weird behavior in your functions, compatible with linear interpolation between points if you want to integrate to intermediate values, and usually accurate enough to get you where you want to go!"
   ]
  }
 ],
 "metadata": {
  "kernelspec": {
   "display_name": "Python 3 (ipykernel)",
   "language": "python",
   "name": "python3"
  },
  "language_info": {
   "codemirror_mode": {
    "name": "ipython",
    "version": 3
   },
   "file_extension": ".py",
   "mimetype": "text/x-python",
   "name": "python",
   "nbconvert_exporter": "python",
   "pygments_lexer": "ipython3",
   "version": "3.9.12"
  }
 },
 "nbformat": 4,
 "nbformat_minor": 5
}
